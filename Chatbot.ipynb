{
  "cells": [
    {
      "cell_type": "markdown",
      "metadata": {
        "id": "view-in-github",
        "colab_type": "text"
      },
      "source": [
        "<a href=\"https://colab.research.google.com/github/shashkovnikita/Telegram_bot/blob/main/Chatbot.ipynb\" target=\"_parent\"><img src=\"https://colab.research.google.com/assets/colab-badge.svg\" alt=\"Open In Colab\"/></a>"
      ]
    },
    {
      "cell_type": "code",
      "execution_count": 42,
      "metadata": {
        "id": "SUPF3VA1osuD"
      },
      "outputs": [],
      "source": [
        "import random\n",
        "import nltk\n",
        "import json\n",
        "from sklearn.model_selection import train_test_split\n",
        "from sklearn.linear_model import LogisticRegression\n",
        "from sklearn.svm import LinearSVC\n",
        "from sklearn.feature_extraction.text import CountVectorizer, TfidfVectorizer"
      ]
    },
    {
      "cell_type": "code",
      "source": [
        "f = open(\"/content/drive/MyDrive/BOT_CONFIG.json\", 'r')\n",
        "BOT_CONFIG = json.load(f)"
      ],
      "metadata": {
        "id": "2SG9c9_MFU5V"
      },
      "execution_count": 74,
      "outputs": []
    },
    {
      "cell_type": "code",
      "execution_count": 75,
      "metadata": {
        "id": "35Pio977os43"
      },
      "outputs": [],
      "source": [
        "texts = []\n",
        "intent_names = []\n",
        "\n",
        "for intent, intent_data in BOT_CONFIG['intents'].items():\n",
        "    for example in intent_data['examples']:\n",
        "      texts.append(example)\n",
        "      intent_names.append(intent)"
      ]
    },
    {
      "cell_type": "code",
      "execution_count": 45,
      "metadata": {
        "colab": {
          "base_uri": "https://localhost:8080/",
          "height": 74
        },
        "id": "hql1OWDZos9M",
        "outputId": "d1c9f47d-a763-482b-9b75-a1f531641f2a"
      },
      "outputs": [
        {
          "output_type": "execute_result",
          "data": {
            "text/plain": [
              "LinearSVC()"
            ],
            "text/html": [
              "<style>#sk-container-id-2 {color: black;background-color: white;}#sk-container-id-2 pre{padding: 0;}#sk-container-id-2 div.sk-toggleable {background-color: white;}#sk-container-id-2 label.sk-toggleable__label {cursor: pointer;display: block;width: 100%;margin-bottom: 0;padding: 0.3em;box-sizing: border-box;text-align: center;}#sk-container-id-2 label.sk-toggleable__label-arrow:before {content: \"▸\";float: left;margin-right: 0.25em;color: #696969;}#sk-container-id-2 label.sk-toggleable__label-arrow:hover:before {color: black;}#sk-container-id-2 div.sk-estimator:hover label.sk-toggleable__label-arrow:before {color: black;}#sk-container-id-2 div.sk-toggleable__content {max-height: 0;max-width: 0;overflow: hidden;text-align: left;background-color: #f0f8ff;}#sk-container-id-2 div.sk-toggleable__content pre {margin: 0.2em;color: black;border-radius: 0.25em;background-color: #f0f8ff;}#sk-container-id-2 input.sk-toggleable__control:checked~div.sk-toggleable__content {max-height: 200px;max-width: 100%;overflow: auto;}#sk-container-id-2 input.sk-toggleable__control:checked~label.sk-toggleable__label-arrow:before {content: \"▾\";}#sk-container-id-2 div.sk-estimator input.sk-toggleable__control:checked~label.sk-toggleable__label {background-color: #d4ebff;}#sk-container-id-2 div.sk-label input.sk-toggleable__control:checked~label.sk-toggleable__label {background-color: #d4ebff;}#sk-container-id-2 input.sk-hidden--visually {border: 0;clip: rect(1px 1px 1px 1px);clip: rect(1px, 1px, 1px, 1px);height: 1px;margin: -1px;overflow: hidden;padding: 0;position: absolute;width: 1px;}#sk-container-id-2 div.sk-estimator {font-family: monospace;background-color: #f0f8ff;border: 1px dotted black;border-radius: 0.25em;box-sizing: border-box;margin-bottom: 0.5em;}#sk-container-id-2 div.sk-estimator:hover {background-color: #d4ebff;}#sk-container-id-2 div.sk-parallel-item::after {content: \"\";width: 100%;border-bottom: 1px solid gray;flex-grow: 1;}#sk-container-id-2 div.sk-label:hover label.sk-toggleable__label {background-color: #d4ebff;}#sk-container-id-2 div.sk-serial::before {content: \"\";position: absolute;border-left: 1px solid gray;box-sizing: border-box;top: 0;bottom: 0;left: 50%;z-index: 0;}#sk-container-id-2 div.sk-serial {display: flex;flex-direction: column;align-items: center;background-color: white;padding-right: 0.2em;padding-left: 0.2em;position: relative;}#sk-container-id-2 div.sk-item {position: relative;z-index: 1;}#sk-container-id-2 div.sk-parallel {display: flex;align-items: stretch;justify-content: center;background-color: white;position: relative;}#sk-container-id-2 div.sk-item::before, #sk-container-id-2 div.sk-parallel-item::before {content: \"\";position: absolute;border-left: 1px solid gray;box-sizing: border-box;top: 0;bottom: 0;left: 50%;z-index: -1;}#sk-container-id-2 div.sk-parallel-item {display: flex;flex-direction: column;z-index: 1;position: relative;background-color: white;}#sk-container-id-2 div.sk-parallel-item:first-child::after {align-self: flex-end;width: 50%;}#sk-container-id-2 div.sk-parallel-item:last-child::after {align-self: flex-start;width: 50%;}#sk-container-id-2 div.sk-parallel-item:only-child::after {width: 0;}#sk-container-id-2 div.sk-dashed-wrapped {border: 1px dashed gray;margin: 0 0.4em 0.5em 0.4em;box-sizing: border-box;padding-bottom: 0.4em;background-color: white;}#sk-container-id-2 div.sk-label label {font-family: monospace;font-weight: bold;display: inline-block;line-height: 1.2em;}#sk-container-id-2 div.sk-label-container {text-align: center;}#sk-container-id-2 div.sk-container {/* jupyter's `normalize.less` sets `[hidden] { display: none; }` but bootstrap.min.css set `[hidden] { display: none !important; }` so we also need the `!important` here to be able to override the default hidden behavior on the sphinx rendered scikit-learn.org. See: https://github.com/scikit-learn/scikit-learn/issues/21755 */display: inline-block !important;position: relative;}#sk-container-id-2 div.sk-text-repr-fallback {display: none;}</style><div id=\"sk-container-id-2\" class=\"sk-top-container\"><div class=\"sk-text-repr-fallback\"><pre>LinearSVC()</pre><b>In a Jupyter environment, please rerun this cell to show the HTML representation or trust the notebook. <br />On GitHub, the HTML representation is unable to render, please try loading this page with nbviewer.org.</b></div><div class=\"sk-container\" hidden><div class=\"sk-item\"><div class=\"sk-estimator sk-toggleable\"><input class=\"sk-toggleable__control sk-hidden--visually\" id=\"sk-estimator-id-2\" type=\"checkbox\" checked><label for=\"sk-estimator-id-2\" class=\"sk-toggleable__label sk-toggleable__label-arrow\">LinearSVC</label><div class=\"sk-toggleable__content\"><pre>LinearSVC()</pre></div></div></div></div></div>"
            ]
          },
          "metadata": {},
          "execution_count": 45
        }
      ],
      "source": [
        "vectorizer = TfidfVectorizer(ngram_range=(2,4), analyzer = 'char')\n",
        "X = vectorizer.fit_transform(texts)\n",
        "clf=LinearSVC()\n",
        "clf.fit(X, intent_names)"
      ]
    },
    {
      "cell_type": "code",
      "source": [
        "n = 10\n",
        "scores=[]\n",
        "vectorizer = CountVectorizer(ngram_range=(2, 4), analyzer='char')\n",
        "X = vectorizer.fit_transform(texts)\n",
        "\n",
        "for i in range (n):\n",
        "  X_train, X_test, y_train, y_test = train_test_split(X, intent_names)\n",
        "  clf=LinearSVC()\n",
        "  clf.fit(X_train, y_train)\n",
        "\n",
        "  score = clf.score(X_test, y_test)\n",
        "  print(score)\n",
        "  scores.append(score)\n",
        "print(scores)\n",
        "print('average=',sum(scores) / len(scores))"
      ],
      "metadata": {
        "colab": {
          "base_uri": "https://localhost:8080/"
        },
        "id": "RBQcFzUXT1SQ",
        "outputId": "a9141063-e9d3-4132-871a-c5ef74001ba2"
      },
      "execution_count": 46,
      "outputs": [
        {
          "output_type": "stream",
          "name": "stderr",
          "text": [
            "/usr/local/lib/python3.10/dist-packages/sklearn/svm/_base.py:1244: ConvergenceWarning: Liblinear failed to converge, increase the number of iterations.\n",
            "  warnings.warn(\n"
          ]
        },
        {
          "output_type": "stream",
          "name": "stdout",
          "text": [
            "0.5062240663900415\n"
          ]
        },
        {
          "output_type": "stream",
          "name": "stderr",
          "text": [
            "/usr/local/lib/python3.10/dist-packages/sklearn/svm/_base.py:1244: ConvergenceWarning: Liblinear failed to converge, increase the number of iterations.\n",
            "  warnings.warn(\n"
          ]
        },
        {
          "output_type": "stream",
          "name": "stdout",
          "text": [
            "0.4979253112033195\n",
            "0.4785615491009682\n"
          ]
        },
        {
          "output_type": "stream",
          "name": "stderr",
          "text": [
            "/usr/local/lib/python3.10/dist-packages/sklearn/svm/_base.py:1244: ConvergenceWarning: Liblinear failed to converge, increase the number of iterations.\n",
            "  warnings.warn(\n"
          ]
        },
        {
          "output_type": "stream",
          "name": "stdout",
          "text": [
            "0.49930843706777317\n"
          ]
        },
        {
          "output_type": "stream",
          "name": "stderr",
          "text": [
            "/usr/local/lib/python3.10/dist-packages/sklearn/svm/_base.py:1244: ConvergenceWarning: Liblinear failed to converge, increase the number of iterations.\n",
            "  warnings.warn(\n"
          ]
        },
        {
          "output_type": "stream",
          "name": "stdout",
          "text": [
            "0.5034578146611342\n"
          ]
        },
        {
          "output_type": "stream",
          "name": "stderr",
          "text": [
            "/usr/local/lib/python3.10/dist-packages/sklearn/svm/_base.py:1244: ConvergenceWarning: Liblinear failed to converge, increase the number of iterations.\n",
            "  warnings.warn(\n"
          ]
        },
        {
          "output_type": "stream",
          "name": "stdout",
          "text": [
            "0.4854771784232365\n"
          ]
        },
        {
          "output_type": "stream",
          "name": "stderr",
          "text": [
            "/usr/local/lib/python3.10/dist-packages/sklearn/svm/_base.py:1244: ConvergenceWarning: Liblinear failed to converge, increase the number of iterations.\n",
            "  warnings.warn(\n"
          ]
        },
        {
          "output_type": "stream",
          "name": "stdout",
          "text": [
            "0.5131396957123098\n"
          ]
        },
        {
          "output_type": "stream",
          "name": "stderr",
          "text": [
            "/usr/local/lib/python3.10/dist-packages/sklearn/svm/_base.py:1244: ConvergenceWarning: Liblinear failed to converge, increase the number of iterations.\n",
            "  warnings.warn(\n"
          ]
        },
        {
          "output_type": "stream",
          "name": "stdout",
          "text": [
            "0.48824343015214383\n"
          ]
        },
        {
          "output_type": "stream",
          "name": "stderr",
          "text": [
            "/usr/local/lib/python3.10/dist-packages/sklearn/svm/_base.py:1244: ConvergenceWarning: Liblinear failed to converge, increase the number of iterations.\n",
            "  warnings.warn(\n"
          ]
        },
        {
          "output_type": "stream",
          "name": "stdout",
          "text": [
            "0.5020746887966805\n",
            "0.4979253112033195\n",
            "[0.5062240663900415, 0.4979253112033195, 0.4785615491009682, 0.49930843706777317, 0.5034578146611342, 0.4854771784232365, 0.5131396957123098, 0.48824343015214383, 0.5020746887966805, 0.4979253112033195]\n",
            "average= 0.4972337482710927\n"
          ]
        },
        {
          "output_type": "stream",
          "name": "stderr",
          "text": [
            "/usr/local/lib/python3.10/dist-packages/sklearn/svm/_base.py:1244: ConvergenceWarning: Liblinear failed to converge, increase the number of iterations.\n",
            "  warnings.warn(\n"
          ]
        }
      ]
    },
    {
      "cell_type": "code",
      "source": [
        "# Проверка чистоты датасета значение должно приблизиться к 100% Модель работает и тренируется сама на себе\n",
        "clf=LinearSVC()\n",
        "clf.fit(X, intent_names)\n",
        "clf.score(X, intent_names)"
      ],
      "metadata": {
        "colab": {
          "base_uri": "https://localhost:8080/"
        },
        "id": "rGP8o6pjUeio",
        "outputId": "67beb626-f70a-4308-9f7d-076594dd0170"
      },
      "execution_count": 47,
      "outputs": [
        {
          "output_type": "stream",
          "name": "stderr",
          "text": [
            "/usr/local/lib/python3.10/dist-packages/sklearn/svm/_base.py:1244: ConvergenceWarning: Liblinear failed to converge, increase the number of iterations.\n",
            "  warnings.warn(\n"
          ]
        },
        {
          "output_type": "execute_result",
          "data": {
            "text/plain": [
              "0.9626168224299065"
            ]
          },
          "metadata": {},
          "execution_count": 47
        }
      ]
    },
    {
      "cell_type": "code",
      "execution_count": 48,
      "metadata": {
        "id": "OIpTXLzlvOIc"
      },
      "outputs": [],
      "source": [
        "def clear_text(text):\n",
        "  text=text.lower()\n",
        "  text=''.join(char for char in text if char in 'абвгдеёжзийклмнопрстуфхцчшщьыъэюя -abcdefghijklmnopqrstuvwxyz')\n",
        "  return(text)"
      ]
    },
    {
      "cell_type": "code",
      "execution_count": 49,
      "metadata": {
        "id": "tr0npvPpotAM"
      },
      "outputs": [],
      "source": [
        "def classify_intent(replica):\n",
        "  replica=clear_text(replica)\n",
        "\n",
        "  for intent, intent_data in BOT_CONFIG['intents'].items():\n",
        "    for example in intent_data['examples']:\n",
        "      example = clear_text(example)\n",
        "      distance = nltk.edit_distance (replica, example)\n",
        "      ##print(example,distance, round(distance / len(example),2))\n",
        "\n",
        "      if len(example) and distance / len(example) < 0.3:\n",
        "        return(intent)"
      ]
    },
    {
      "cell_type": "code",
      "execution_count": 50,
      "metadata": {
        "id": "9-x6wUJutlY_"
      },
      "outputs": [],
      "source": [
        "def classify_intent(replica):\n",
        "  intent = clf.predict(vectorizer.transform([replica]))[0]\n",
        "  examples = BOT_CONFIG['intents'][intent]['examples']\n",
        "\n",
        "  for example in examples:\n",
        "    example = clear_text(example)\n",
        "    if len(example)>0:\n",
        "\n",
        "      if abs(len(example) - len(replica)) / len(example) < 0.5:\n",
        "        distance = nltk.edit_distance (replica, example)\n",
        "        if len(example) and distance / len(example) < 0.5:\n",
        "            return(intent)"
      ]
    },
    {
      "cell_type": "code",
      "execution_count": 51,
      "metadata": {
        "id": "nfqCKxrGotDq"
      },
      "outputs": [],
      "source": [
        "def get_answer_by_intent(intent):\n",
        "  if intent in BOT_CONFIG['intents']:\n",
        "    responses = BOT_CONFIG['intents'][intent]['responses']\n",
        "    return random.choice(responses)"
      ]
    },
    {
      "cell_type": "markdown",
      "metadata": {
        "id": "MxICIbSmO9FB"
      },
      "source": [
        "### **Generative model**"
      ]
    },
    {
      "cell_type": "code",
      "execution_count": 68,
      "metadata": {
        "id": "1W0KTSouPosc"
      },
      "outputs": [],
      "source": [
        "with open('/content/drive/MyDrive/dialogues.txt') as dialogues_file:\n",
        "  dialogues_text=dialogues_file.read()\n",
        "  dialogues = dialogues_text.split('\\n\\n')"
      ]
    },
    {
      "cell_type": "code",
      "execution_count": 53,
      "metadata": {
        "id": "xfKbxAxiWubH"
      },
      "outputs": [],
      "source": [
        "def clear_text(text):\n",
        "  text=text.lower()\n",
        "  text=''.join(char for char in text if char in 'абвгдеёжзийклмнопрстуфхцчшщьыъэюя -abcdefghijklmnopqrstuvwxyz')\n",
        "  return(text)\n",
        "\n",
        "dataset = []\n",
        "questions = set()\n",
        "\n",
        "for dialogue in dialogues:\n",
        "  replicas = dialogue.split('\\n')\n",
        "  replicas = replicas[:2]\n",
        "\n",
        "  if len(replicas) ==2:\n",
        "    question, answer = replicas\n",
        "    question = clear_text(question [2:])\n",
        "    answer = answer[2:]\n",
        "\n",
        "    if len(question)>0 and question not in questions:\n",
        "      questions.add(question)\n",
        "      dataset.append([question,answer])"
      ]
    },
    {
      "cell_type": "code",
      "execution_count": 54,
      "metadata": {
        "id": "09-GBw4KF6J4"
      },
      "outputs": [],
      "source": [
        "dataset_by_word = {} # {word: [question with word, answer], ...], ...}\n",
        "for question, answer in dataset:\n",
        "  words=question.split(' ')\n",
        "  for word in words:\n",
        "    if word not in dataset_by_word:\n",
        "      dataset_by_word[word]=[]\n",
        "    dataset_by_word[word].append([question,answer])\n",
        "\n",
        "dataset_by_word_filtered = {}\n",
        "for word, word_dataset in dataset_by_word.items():\n",
        "  if len(word_dataset) < 5000:\n",
        "    dataset_by_word_filtered[word] = word_dataset"
      ]
    },
    {
      "cell_type": "code",
      "source": [
        "dataset_by_word_count=[]\n",
        "for word, word_dataset in dataset_by_word.items():\n",
        "  dataset_by_word_count.append([word, len(word_dataset)])\n",
        "dataset_by_word_count.sort(key=lambda pair: pair[1], reverse=True)"
      ],
      "metadata": {
        "id": "0WYT4b1SQad-"
      },
      "execution_count": 55,
      "outputs": []
    },
    {
      "cell_type": "code",
      "execution_count": 56,
      "metadata": {
        "id": "OjwYRR-qmEfF"
      },
      "outputs": [],
      "source": [
        "def generate_answer(replica):\n",
        "  replica=clear_text(replica)\n",
        "  if not replica:\n",
        "    return\n",
        "\n",
        "  words = set(replica.split(' '))\n",
        "  words_dataset= []\n",
        "\n",
        "  for word in words:\n",
        "    if word in dataset_by_word_filtered:\n",
        "      word_dataset = dataset_by_word_filtered[word]\n",
        "      words_dataset += word_dataset\n",
        "\n",
        "  for question, answer in words_dataset:\n",
        "    if abs(len(question) - len(replica)) / len(question) < 0.2:\n",
        "      distance = nltk.edit_distance (replica, question)\n",
        "      if distance / len(question) < 0.2:\n",
        "        return answer"
      ]
    },
    {
      "cell_type": "markdown",
      "metadata": {
        "id": "06465T-0nJ5l"
      },
      "source": [
        "### **Заглушка**"
      ]
    },
    {
      "cell_type": "code",
      "execution_count": 57,
      "metadata": {
        "id": "4vgG-rBznfFO"
      },
      "outputs": [],
      "source": [
        "def get_stub():\n",
        "  failure_phrases = BOT_CONFIG['failure_phrases']\n",
        "  #TODO\n",
        "  return random.choice(failure_phrases)"
      ]
    },
    {
      "cell_type": "code",
      "execution_count": 58,
      "metadata": {
        "id": "oO8g_qhEzHI6"
      },
      "outputs": [],
      "source": [
        "stats = {'intents': 0, 'generative': 0, 'stubs': 0}"
      ]
    },
    {
      "cell_type": "markdown",
      "metadata": {
        "id": "LbB39XoYnmVG"
      },
      "source": [
        "### **ТЕЛО БОТА**"
      ]
    },
    {
      "cell_type": "code",
      "execution_count": 59,
      "metadata": {
        "id": "70SUNj50nkor"
      },
      "outputs": [],
      "source": [
        "def bot(replica):\n",
        "  # NLU\n",
        "  intent = classify_intent(replica)\n",
        "\n",
        "  # Получение ответа\n",
        "\n",
        "  # Правила\n",
        "  if intent:\n",
        "    answer = get_answer_by_intent(intent)\n",
        "    if answer:\n",
        "      stats['intents']+=1\n",
        "      return(answer)\n",
        "\n",
        "  #Генеративная модель\n",
        "  answer = generate_answer(replica)\n",
        "  if answer:\n",
        "    stats['generative']+=1\n",
        "    return(answer)\n",
        "\n",
        "  #Заглушка\n",
        "  answer=get_stub()\n",
        "  stats['stubs']+=1\n",
        "  return(answer)"
      ]
    },
    {
      "cell_type": "code",
      "execution_count": 60,
      "metadata": {
        "colab": {
          "base_uri": "https://localhost:8080/"
        },
        "id": "8UQmOF9Lz_oJ",
        "outputId": "888bed4b-b6a5-4dd1-9622-6c8a90feb447"
      },
      "outputs": [
        {
          "output_type": "execute_result",
          "data": {
            "text/plain": [
              "{'intents': 0, 'generative': 0, 'stubs': 0}"
            ]
          },
          "metadata": {},
          "execution_count": 60
        }
      ],
      "source": [
        "stats"
      ]
    },
    {
      "cell_type": "code",
      "execution_count": 61,
      "metadata": {
        "colab": {
          "base_uri": "https://localhost:8080/"
        },
        "id": "I_NE_Hb80r_U",
        "outputId": "04e14b6a-e9d0-4552-c5d2-aa4282ce9e58"
      },
      "outputs": [
        {
          "output_type": "stream",
          "name": "stdout",
          "text": [
            "Requirement already satisfied: python-telegram-bot in /usr/local/lib/python3.10/dist-packages (21.2)\n",
            "Requirement already satisfied: httpx~=0.27 in /usr/local/lib/python3.10/dist-packages (from python-telegram-bot) (0.27.0)\n",
            "Requirement already satisfied: anyio in /usr/local/lib/python3.10/dist-packages (from httpx~=0.27->python-telegram-bot) (3.7.1)\n",
            "Requirement already satisfied: certifi in /usr/local/lib/python3.10/dist-packages (from httpx~=0.27->python-telegram-bot) (2024.6.2)\n",
            "Requirement already satisfied: httpcore==1.* in /usr/local/lib/python3.10/dist-packages (from httpx~=0.27->python-telegram-bot) (1.0.5)\n",
            "Requirement already satisfied: idna in /usr/local/lib/python3.10/dist-packages (from httpx~=0.27->python-telegram-bot) (3.7)\n",
            "Requirement already satisfied: sniffio in /usr/local/lib/python3.10/dist-packages (from httpx~=0.27->python-telegram-bot) (1.3.1)\n",
            "Requirement already satisfied: h11<0.15,>=0.13 in /usr/local/lib/python3.10/dist-packages (from httpcore==1.*->httpx~=0.27->python-telegram-bot) (0.14.0)\n",
            "Requirement already satisfied: exceptiongroup in /usr/local/lib/python3.10/dist-packages (from anyio->httpx~=0.27->python-telegram-bot) (1.2.1)\n"
          ]
        }
      ],
      "source": [
        "! pip install python-telegram-bot"
      ]
    },
    {
      "cell_type": "code",
      "execution_count": 62,
      "metadata": {
        "colab": {
          "base_uri": "https://localhost:8080/"
        },
        "id": "yGLmYo3N5MhK",
        "outputId": "68dd53f9-26a6-454e-941e-270a2fcad2b9"
      },
      "outputs": [
        {
          "output_type": "stream",
          "name": "stdout",
          "text": [
            "Requirement already satisfied: nest_asyncio in /usr/local/lib/python3.10/dist-packages (1.6.0)\n"
          ]
        }
      ],
      "source": [
        "! pip install nest_asyncio"
      ]
    },
    {
      "cell_type": "code",
      "execution_count": 63,
      "metadata": {
        "id": "Yw_nlXdf5OiY"
      },
      "outputs": [],
      "source": [
        "import nest_asyncio\n",
        "nest_asyncio.apply() # Решение ошибки \"This event loop is already running\""
      ]
    },
    {
      "cell_type": "code",
      "execution_count": 64,
      "metadata": {
        "id": "6Hh3y7345Ugv"
      },
      "outputs": [],
      "source": [
        "TOKEN=\"1033794649:AAFbCXQ3wJGa5ebPAY2ZcGhvXBYJ0Lb7mEs\""
      ]
    },
    {
      "cell_type": "code",
      "execution_count": 65,
      "metadata": {
        "colab": {
          "base_uri": "https://localhost:8080/",
          "height": 599
        },
        "id": "QXsSVt0X049U",
        "outputId": "4caf0f8f-5075-4e83-ef7d-8d211d63b3f3"
      },
      "outputs": [
        {
          "output_type": "stream",
          "name": "stdout",
          "text": [
            "Никита Шашков: Привет\n",
            "BOT: Здравствуй\n",
            "Никита Шашков: Кто ты\n",
            "BOT: Я тот кого трудно найти, легко потерять и невозможно забыть\n",
            "Никита Шашков: А я кто\n",
            "BOT: Вера моя, вера, Богом Единым кованная, людьми желанная!\n",
            "Никита Шашков: Ого\n",
            "BOT: Это ваши люди?\n",
            "Никита Шашков: Да\n",
            "BOT: Что то не понятно\n",
            "Никита Шашков: Нет\n",
            "BOT: Хорошо\n",
            "Никита Шашков: Да\n",
            "BOT: Я всего лишь бот, сэр\n",
            "Никита Шашков: Да\n",
            "BOT: Попробуйте написать подругому.\n"
          ]
        },
        {
          "output_type": "error",
          "ename": "RuntimeError",
          "evalue": "Cannot close a running event loop",
          "traceback": [
            "\u001b[0;31m---------------------------------------------------------------------------\u001b[0m",
            "\u001b[0;31mRuntimeError\u001b[0m                              Traceback (most recent call last)",
            "\u001b[0;32m<ipython-input-65-90d2d1330718>\u001b[0m in \u001b[0;36m<cell line: 20>\u001b[0;34m()\u001b[0m\n\u001b[1;32m     18\u001b[0m \u001b[0;31m# app.run_polling # Наш код регулярно опрашивает сервер на предмет новых Апдейтов\u001b[0m\u001b[0;34m\u001b[0m\u001b[0;34m\u001b[0m\u001b[0m\n\u001b[1;32m     19\u001b[0m \u001b[0;31m# app.run_webhook # Запускает веб-сервер, к которому будет подключаться сам ТГ и присылать туда апдейты\u001b[0m\u001b[0;34m\u001b[0m\u001b[0;34m\u001b[0m\u001b[0m\n\u001b[0;32m---> 20\u001b[0;31m \u001b[0mapp\u001b[0m\u001b[0;34m.\u001b[0m\u001b[0mrun_polling\u001b[0m\u001b[0;34m(\u001b[0m\u001b[0;34m)\u001b[0m\u001b[0;34m\u001b[0m\u001b[0;34m\u001b[0m\u001b[0m\n\u001b[0m",
            "\u001b[0;32m/usr/local/lib/python3.10/dist-packages/telegram/ext/_application.py\u001b[0m in \u001b[0;36mrun_polling\u001b[0;34m(self, poll_interval, timeout, bootstrap_retries, read_timeout, write_timeout, connect_timeout, pool_timeout, allowed_updates, drop_pending_updates, close_loop, stop_signals)\u001b[0m\n\u001b[1;32m    869\u001b[0m             \u001b[0mself\u001b[0m\u001b[0;34m.\u001b[0m\u001b[0mcreate_task\u001b[0m\u001b[0;34m(\u001b[0m\u001b[0mself\u001b[0m\u001b[0;34m.\u001b[0m\u001b[0mprocess_error\u001b[0m\u001b[0;34m(\u001b[0m\u001b[0merror\u001b[0m\u001b[0;34m=\u001b[0m\u001b[0mexc\u001b[0m\u001b[0;34m,\u001b[0m \u001b[0mupdate\u001b[0m\u001b[0;34m=\u001b[0m\u001b[0;32mNone\u001b[0m\u001b[0;34m)\u001b[0m\u001b[0;34m)\u001b[0m\u001b[0;34m\u001b[0m\u001b[0;34m\u001b[0m\u001b[0m\n\u001b[1;32m    870\u001b[0m \u001b[0;34m\u001b[0m\u001b[0m\n\u001b[0;32m--> 871\u001b[0;31m         return self.__run(\n\u001b[0m\u001b[1;32m    872\u001b[0m             updater_coroutine=self.updater.start_polling(\n\u001b[1;32m    873\u001b[0m                 \u001b[0mpoll_interval\u001b[0m\u001b[0;34m=\u001b[0m\u001b[0mpoll_interval\u001b[0m\u001b[0;34m,\u001b[0m\u001b[0;34m\u001b[0m\u001b[0;34m\u001b[0m\u001b[0m\n",
            "\u001b[0;32m/usr/local/lib/python3.10/dist-packages/telegram/ext/_application.py\u001b[0m in \u001b[0;36m__run\u001b[0;34m(self, updater_coroutine, stop_signals, close_loop)\u001b[0m\n\u001b[1;32m   1097\u001b[0m             \u001b[0;32mfinally\u001b[0m\u001b[0;34m:\u001b[0m\u001b[0;34m\u001b[0m\u001b[0;34m\u001b[0m\u001b[0m\n\u001b[1;32m   1098\u001b[0m                 \u001b[0;32mif\u001b[0m \u001b[0mclose_loop\u001b[0m\u001b[0;34m:\u001b[0m\u001b[0;34m\u001b[0m\u001b[0;34m\u001b[0m\u001b[0m\n\u001b[0;32m-> 1099\u001b[0;31m                     \u001b[0mloop\u001b[0m\u001b[0;34m.\u001b[0m\u001b[0mclose\u001b[0m\u001b[0;34m(\u001b[0m\u001b[0;34m)\u001b[0m\u001b[0;34m\u001b[0m\u001b[0;34m\u001b[0m\u001b[0m\n\u001b[0m\u001b[1;32m   1100\u001b[0m \u001b[0;34m\u001b[0m\u001b[0m\n\u001b[1;32m   1101\u001b[0m     def create_task(\n",
            "\u001b[0;32m/usr/lib/python3.10/asyncio/unix_events.py\u001b[0m in \u001b[0;36mclose\u001b[0;34m(self)\u001b[0m\n\u001b[1;32m     66\u001b[0m \u001b[0;34m\u001b[0m\u001b[0m\n\u001b[1;32m     67\u001b[0m     \u001b[0;32mdef\u001b[0m \u001b[0mclose\u001b[0m\u001b[0;34m(\u001b[0m\u001b[0mself\u001b[0m\u001b[0;34m)\u001b[0m\u001b[0;34m:\u001b[0m\u001b[0;34m\u001b[0m\u001b[0;34m\u001b[0m\u001b[0m\n\u001b[0;32m---> 68\u001b[0;31m         \u001b[0msuper\u001b[0m\u001b[0;34m(\u001b[0m\u001b[0;34m)\u001b[0m\u001b[0;34m.\u001b[0m\u001b[0mclose\u001b[0m\u001b[0;34m(\u001b[0m\u001b[0;34m)\u001b[0m\u001b[0;34m\u001b[0m\u001b[0;34m\u001b[0m\u001b[0m\n\u001b[0m\u001b[1;32m     69\u001b[0m         \u001b[0;32mif\u001b[0m \u001b[0;32mnot\u001b[0m \u001b[0msys\u001b[0m\u001b[0;34m.\u001b[0m\u001b[0mis_finalizing\u001b[0m\u001b[0;34m(\u001b[0m\u001b[0;34m)\u001b[0m\u001b[0;34m:\u001b[0m\u001b[0;34m\u001b[0m\u001b[0;34m\u001b[0m\u001b[0m\n\u001b[1;32m     70\u001b[0m             \u001b[0;32mfor\u001b[0m \u001b[0msig\u001b[0m \u001b[0;32min\u001b[0m \u001b[0mlist\u001b[0m\u001b[0;34m(\u001b[0m\u001b[0mself\u001b[0m\u001b[0;34m.\u001b[0m\u001b[0m_signal_handlers\u001b[0m\u001b[0;34m)\u001b[0m\u001b[0;34m:\u001b[0m\u001b[0;34m\u001b[0m\u001b[0;34m\u001b[0m\u001b[0m\n",
            "\u001b[0;32m/usr/lib/python3.10/asyncio/selector_events.py\u001b[0m in \u001b[0;36mclose\u001b[0;34m(self)\u001b[0m\n\u001b[1;32m     82\u001b[0m     \u001b[0;32mdef\u001b[0m \u001b[0mclose\u001b[0m\u001b[0;34m(\u001b[0m\u001b[0mself\u001b[0m\u001b[0;34m)\u001b[0m\u001b[0;34m:\u001b[0m\u001b[0;34m\u001b[0m\u001b[0;34m\u001b[0m\u001b[0m\n\u001b[1;32m     83\u001b[0m         \u001b[0;32mif\u001b[0m \u001b[0mself\u001b[0m\u001b[0;34m.\u001b[0m\u001b[0mis_running\u001b[0m\u001b[0;34m(\u001b[0m\u001b[0;34m)\u001b[0m\u001b[0;34m:\u001b[0m\u001b[0;34m\u001b[0m\u001b[0;34m\u001b[0m\u001b[0m\n\u001b[0;32m---> 84\u001b[0;31m             \u001b[0;32mraise\u001b[0m \u001b[0mRuntimeError\u001b[0m\u001b[0;34m(\u001b[0m\u001b[0;34m\"Cannot close a running event loop\"\u001b[0m\u001b[0;34m)\u001b[0m\u001b[0;34m\u001b[0m\u001b[0;34m\u001b[0m\u001b[0m\n\u001b[0m\u001b[1;32m     85\u001b[0m         \u001b[0;32mif\u001b[0m \u001b[0mself\u001b[0m\u001b[0;34m.\u001b[0m\u001b[0mis_closed\u001b[0m\u001b[0;34m(\u001b[0m\u001b[0;34m)\u001b[0m\u001b[0;34m:\u001b[0m\u001b[0;34m\u001b[0m\u001b[0;34m\u001b[0m\u001b[0m\n\u001b[1;32m     86\u001b[0m             \u001b[0;32mreturn\u001b[0m\u001b[0;34m\u001b[0m\u001b[0;34m\u001b[0m\u001b[0m\n",
            "\u001b[0;31mRuntimeError\u001b[0m: Cannot close a running event loop"
          ]
        }
      ],
      "source": [
        "from telegram import Update # Обновление пришедшее к нам с серверов ТГ\n",
        "from telegram.ext import ApplicationBuilder, MessageHandler, filters\n",
        "\n",
        "# Создаем и настраиваем бот-приложение\n",
        "app = ApplicationBuilder().token(TOKEN).build()\n",
        "\n",
        "async def telegram_reply(upd: Update, ctx):\n",
        "    name = upd.message.from_user.full_name\n",
        "    user_text = upd.message.text\n",
        "    print(f\"{name}: {user_text}\")\n",
        "    reply = bot(user_text)\n",
        "    print(f\"BOT: {reply}\")\n",
        "    await upd.message.reply_text(reply)\n",
        "\n",
        "handler = MessageHandler(filters.TEXT, telegram_reply) # Создаем обработчик текстовых сообщений\n",
        "app.add_handler(handler) # Добавляем обработчик в приложение\n",
        "\n",
        "# app.run_polling # Наш код регулярно опрашивает сервер на предмет новых Апдейтов\n",
        "# app.run_webhook # Запускает веб-сервер, к которому будет подключаться сам ТГ и присылать туда апдейты\n",
        "app.run_polling()"
      ]
    }
  ],
  "metadata": {
    "colab": {
      "provenance": [],
      "mount_file_id": "17YUgKBtwHjzsHF_bxwWuYjwdEg_xegPr",
      "authorship_tag": "ABX9TyNcwQGTp5k7EPdb7kkAYt42",
      "include_colab_link": true
    },
    "kernelspec": {
      "display_name": "Python 3",
      "name": "python3"
    },
    "language_info": {
      "name": "python"
    }
  },
  "nbformat": 4,
  "nbformat_minor": 0
}